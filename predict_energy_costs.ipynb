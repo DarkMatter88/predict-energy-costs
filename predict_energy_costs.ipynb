{
 "cells": [
  {
   "cell_type": "code",
   "execution_count": 1,
   "metadata": {
    "ExecuteTime": {
     "end_time": "2019-08-08T20:26:02.499522Z",
     "start_time": "2019-08-08T20:26:01.416312Z"
    }
   },
   "outputs": [],
   "source": [
    "import pandas as pd\n",
    "import numpy as np\n",
    "import glob\n",
    "import re\n",
    "from functools import reduce\n",
    "from datetime import datetime \n",
    "import matplotlib.pyplot as plt\n",
    "import seaborn as sns\n",
    "%matplotlib inline"
   ]
  },
  {
   "cell_type": "markdown",
   "metadata": {},
   "source": [
    "# Load data"
   ]
  },
  {
   "cell_type": "markdown",
   "metadata": {},
   "source": [
    "Files HE, LP, TP, ALL_Others.csv contain the data for prediction. \n",
    "\n",
    "Requirements for building the model: \n",
    "predictors to use (Timestamp, Heat_exchanger_stuffing, … , Product_Throughput) and target variable is Energy costs. \n"
   ]
  },
  {
   "cell_type": "code",
   "execution_count": 2,
   "metadata": {
    "ExecuteTime": {
     "end_time": "2019-08-08T20:26:03.217016Z",
     "start_time": "2019-08-08T20:26:03.211505Z"
    }
   },
   "outputs": [],
   "source": [
    "path_to_data = '/home/marianna/etc/data/'"
   ]
  },
  {
   "cell_type": "code",
   "execution_count": 3,
   "metadata": {
    "ExecuteTime": {
     "end_time": "2019-08-08T20:26:03.691053Z",
     "start_time": "2019-08-08T20:26:03.601459Z"
    }
   },
   "outputs": [],
   "source": [
    "datafiles = {\n",
    "    re.sub('{path}|.{extension}'.format(path=path_to_data, extension='csv'), '', filename.lower()\n",
    "          ) :pd.read_csv(filename, sep=';') for filename in glob.glob('{path}*'.format(path=path_to_data))\n",
    "}"
   ]
  },
  {
   "cell_type": "code",
   "execution_count": 4,
   "metadata": {
    "ExecuteTime": {
     "end_time": "2019-08-08T20:26:04.250209Z",
     "start_time": "2019-08-08T20:26:04.238059Z"
    },
    "scrolled": false
   },
   "outputs": [
    {
     "data": {
      "text/plain": [
       "{'all_others': ['Timestamp',\n",
       "  'Efficiency_of_main_aggregate',\n",
       "  'Quality_of_raw_materials',\n",
       "  'Outdoor_temperature',\n",
       "  'Product_Throughput'],\n",
       " 'tp': ['Timestamp', 'Top_pressure_in_hydralic_system'],\n",
       " 'test': ['ID',\n",
       "  'Timestamp',\n",
       "  'Heat_exchanger_stuffing',\n",
       "  'Losses_of_pressure_in_hydralic_system',\n",
       "  'Top_pressure_in_hydralic_system',\n",
       "  'Efficiency_of_main_aggregate',\n",
       "  'Quality_of_raw_materials',\n",
       "  'Outdoor_temperature',\n",
       "  'Product_Throughput'],\n",
       " 'lp': ['Timestamp', 'Losses_of_pressure_in_hydralic_system'],\n",
       " 'he': ['Timestamp', 'Heat_exchanger_stuffing'],\n",
       " 'ec': ['Timestamp', 'Energy_costs']}"
      ]
     },
     "execution_count": 4,
     "metadata": {},
     "output_type": "execute_result"
    }
   ],
   "source": [
    "{filename: datafiles.get(filename).columns.to_list() for filename in list(datafiles.keys())}"
   ]
  },
  {
   "cell_type": "code",
   "execution_count": 5,
   "metadata": {
    "ExecuteTime": {
     "end_time": "2019-08-08T20:26:04.945650Z",
     "start_time": "2019-08-08T20:26:04.937852Z"
    },
    "scrolled": true
   },
   "outputs": [
    {
     "data": {
      "text/plain": [
       "{'all_others': (365, 5),\n",
       " 'tp': (365, 2),\n",
       " 'test': (61, 9),\n",
       " 'lp': (365, 2),\n",
       " 'he': (365, 2),\n",
       " 'ec': (304, 2)}"
      ]
     },
     "execution_count": 5,
     "metadata": {},
     "output_type": "execute_result"
    }
   ],
   "source": [
    "#checking files dimensionality\n",
    "{filename: datafiles.get(filename).shape for filename in datafiles.keys()}"
   ]
  },
  {
   "cell_type": "markdown",
   "metadata": {},
   "source": [
    "File with target variable is smaller than other values "
   ]
  },
  {
   "cell_type": "code",
   "execution_count": 6,
   "metadata": {
    "ExecuteTime": {
     "end_time": "2019-08-08T20:26:06.905034Z",
     "start_time": "2019-08-08T20:26:06.900235Z"
    }
   },
   "outputs": [],
   "source": [
    "test = datafiles.get('test')"
   ]
  },
  {
   "cell_type": "code",
   "execution_count": 7,
   "metadata": {
    "ExecuteTime": {
     "end_time": "2019-08-08T20:26:08.622284Z",
     "start_time": "2019-08-08T20:26:07.324284Z"
    },
    "scrolled": false
   },
   "outputs": [
    {
     "data": {
      "text/plain": [
       "(13846145, 8)"
      ]
     },
     "execution_count": 7,
     "metadata": {},
     "output_type": "execute_result"
    }
   ],
   "source": [
    "#too many duplicates after merge\n",
    "filenames_without_test_target = [key for key in datafiles.keys() if key not in ['ec', 'test']]\n",
    "train_dfs_list = [datafiles.get(filename) for filename in filenames_without_test_target]\n",
    "\n",
    "reduce(lambda x, y: pd.merge(x, y, on = 'Timestamp'), train_dfs_list).shape"
   ]
  },
  {
   "cell_type": "code",
   "execution_count": 8,
   "metadata": {
    "ExecuteTime": {
     "end_time": "2019-08-08T20:26:09.452908Z",
     "start_time": "2019-08-08T20:26:09.420725Z"
    },
    "scrolled": true
   },
   "outputs": [],
   "source": [
    "train_data = pd.DataFrame()\n",
    "train_data = datafiles.get('ec').merge(datafiles.get('lp'), on='Timestamp', how='left'\n",
    "                                      ).merge(datafiles.get('he'), on='Timestamp', how='left'\n",
    "                                             ).merge(datafiles.get('tp'), on='Timestamp', how='left'\n",
    "                                                    ).merge(datafiles.get('all_others'), \n",
    "                                                            on='Timestamp', how='left')"
   ]
  },
  {
   "cell_type": "code",
   "execution_count": 9,
   "metadata": {
    "ExecuteTime": {
     "end_time": "2019-08-08T20:26:10.498173Z",
     "start_time": "2019-08-08T20:26:10.490308Z"
    }
   },
   "outputs": [
    {
     "data": {
      "text/plain": [
       "['Energy_costs']"
      ]
     },
     "execution_count": 9,
     "metadata": {},
     "output_type": "execute_result"
    }
   ],
   "source": [
    "#after merging all the files checking whether features correspond one to another\n",
    "[col for col in train_data.columns if col not in test.columns]"
   ]
  },
  {
   "cell_type": "code",
   "execution_count": 10,
   "metadata": {
    "ExecuteTime": {
     "end_time": "2019-08-08T20:26:11.100445Z",
     "start_time": "2019-08-08T20:26:11.093552Z"
    }
   },
   "outputs": [],
   "source": [
    "#initializing target variable\n",
    "target = 'Energy_costs'\n",
    "predictors = test.drop(\n",
    "    [col_to_remove for col_to_remove in test.columns if col_to_remove in ['ID', 'Timestamp', target]], axis=1\n",
    ").columns"
   ]
  },
  {
   "cell_type": "code",
   "execution_count": 11,
   "metadata": {
    "ExecuteTime": {
     "end_time": "2019-08-08T20:26:12.690972Z",
     "start_time": "2019-08-08T20:26:12.656302Z"
    },
    "scrolled": false
   },
   "outputs": [
    {
     "data": {
      "text/html": [
       "<div>\n",
       "<style scoped>\n",
       "    .dataframe tbody tr th:only-of-type {\n",
       "        vertical-align: middle;\n",
       "    }\n",
       "\n",
       "    .dataframe tbody tr th {\n",
       "        vertical-align: top;\n",
       "    }\n",
       "\n",
       "    .dataframe thead th {\n",
       "        text-align: right;\n",
       "    }\n",
       "</style>\n",
       "<table border=\"1\" class=\"dataframe\">\n",
       "  <thead>\n",
       "    <tr style=\"text-align: right;\">\n",
       "      <th></th>\n",
       "      <th>train_col_type</th>\n",
       "      <th>test_col_type</th>\n",
       "    </tr>\n",
       "  </thead>\n",
       "  <tbody>\n",
       "    <tr>\n",
       "      <th>Energy_costs</th>\n",
       "      <td>float64</td>\n",
       "      <td>NaN</td>\n",
       "    </tr>\n",
       "    <tr>\n",
       "      <th>Top_pressure_in_hydralic_system</th>\n",
       "      <td>object</td>\n",
       "      <td>float64</td>\n",
       "    </tr>\n",
       "    <tr>\n",
       "      <th>ID</th>\n",
       "      <td>NaN</td>\n",
       "      <td>int64</td>\n",
       "    </tr>\n",
       "  </tbody>\n",
       "</table>\n",
       "</div>"
      ],
      "text/plain": [
       "                                train_col_type test_col_type\n",
       "Energy_costs                           float64           NaN\n",
       "Top_pressure_in_hydralic_system         object       float64\n",
       "ID                                         NaN         int64"
      ]
     },
     "execution_count": 11,
     "metadata": {},
     "output_type": "execute_result"
    }
   ],
   "source": [
    "dataset_dtypes = pd.concat([\n",
    "    pd.DataFrame(train_data.dtypes, columns=['train_col_type']),\n",
    "    pd.DataFrame(test.dtypes, columns=['test_col_type'])\n",
    "], axis=1, sort=False)\n",
    "\n",
    "dataset_dtypes[dataset_dtypes['train_col_type'] != dataset_dtypes['test_col_type']]"
   ]
  },
  {
   "cell_type": "markdown",
   "metadata": {},
   "source": [
    "# Data preprocessing"
   ]
  },
  {
   "cell_type": "code",
   "execution_count": 12,
   "metadata": {
    "ExecuteTime": {
     "end_time": "2019-08-08T20:26:13.357255Z",
     "start_time": "2019-08-08T20:26:13.351324Z"
    }
   },
   "outputs": [
    {
     "name": "stdout",
     "output_type": "stream",
     "text": [
      "Error message: could not convert string to float: 'n/A'\n"
     ]
    }
   ],
   "source": [
    "try:\n",
    "    train_data['Top_pressure_in_hydralic_system'] = train_data['Top_pressure_in_hydralic_system'].map(float)\n",
    "except ValueError as exception:\n",
    "    print('Error message: {}'.format(exception))"
   ]
  },
  {
   "cell_type": "code",
   "execution_count": 13,
   "metadata": {
    "ExecuteTime": {
     "end_time": "2019-08-08T20:26:14.879013Z",
     "start_time": "2019-08-08T20:26:14.870616Z"
    }
   },
   "outputs": [],
   "source": [
    "def preprocess_data(df): \n",
    "    \"\"\"Convert data types - dates from string to timestamps and string symbols for float conversion.\"\"\"\n",
    "    proc_df = df.copy(deep=True)\n",
    "    proc_df['Timestamp'] = proc_df['Timestamp'].apply(lambda x: datetime.strptime(x, '%d.%m.%Y'))\n",
    "    proc_df['Top_pressure_in_hydralic_system'] = proc_df['Top_pressure_in_hydralic_system'\n",
    "                                                        ].replace('n/A', None).map(float)\n",
    "    return proc_df"
   ]
  },
  {
   "cell_type": "code",
   "execution_count": 14,
   "metadata": {
    "ExecuteTime": {
     "end_time": "2019-08-08T20:26:15.530100Z",
     "start_time": "2019-08-08T20:26:15.504537Z"
    },
    "scrolled": true
   },
   "outputs": [],
   "source": [
    "train_data = preprocess_data(train_data)\n",
    "test = preprocess_data(test)"
   ]
  },
  {
   "cell_type": "markdown",
   "metadata": {},
   "source": [
    "# EDA"
   ]
  },
  {
   "cell_type": "code",
   "execution_count": 15,
   "metadata": {
    "ExecuteTime": {
     "end_time": "2019-08-08T20:26:17.081710Z",
     "start_time": "2019-08-08T20:26:17.071691Z"
    }
   },
   "outputs": [],
   "source": [
    "def check_timespan(df, timedate_col_name='Timestamp'):\n",
    "    max_date = max(df[timedate_col_name])\n",
    "    min_date = min(df[timedate_col_name])\n",
    "    timespan = max_date - min_date\n",
    "    records_freq = df.reset_index(drop=False).groupby([timedate_col_name]\n",
    "                                          ).count().rename(columns={'index':'records_numb'}\n",
    "                                                          ).records_numb.unique()\n",
    "    diff_btw_dates = list(np.unique(np.diff(list(df[timedate_col_name]))))\n",
    "    \n",
    "    print('Earliest date: {}'.format(min_date),\n",
    "         '\\nLatest date: {}'.format(max_date),\n",
    "         '\\nDataset timespan: {}'.format(timespan),\n",
    "         '\\nRecords number per day: {}'.format(records_freq),\n",
    "         '\\nDifferences between dates of records: {}'.format(diff_btw_dates))   "
   ]
  },
  {
   "cell_type": "markdown",
   "metadata": {},
   "source": [
    "Dataset stores one recording of state of the things per day. It has updates every day (no missing dates) - both in train and test samples."
   ]
  },
  {
   "cell_type": "code",
   "execution_count": 16,
   "metadata": {
    "ExecuteTime": {
     "end_time": "2019-08-08T20:26:18.628190Z",
     "start_time": "2019-08-08T20:26:18.594443Z"
    }
   },
   "outputs": [
    {
     "name": "stdout",
     "output_type": "stream",
     "text": [
      "Earliest date: 2017-01-01 00:00:00 \n",
      "Latest date: 2017-10-31 00:00:00 \n",
      "Dataset timespan: 303 days 00:00:00 \n",
      "Records number per day: [1] \n",
      "Differences between dates of records: [Timedelta('1 days 00:00:00')]\n"
     ]
    }
   ],
   "source": [
    "check_timespan(train_data)"
   ]
  },
  {
   "cell_type": "code",
   "execution_count": 17,
   "metadata": {
    "ExecuteTime": {
     "end_time": "2019-08-08T20:26:19.658076Z",
     "start_time": "2019-08-08T20:26:19.639508Z"
    },
    "scrolled": true
   },
   "outputs": [
    {
     "name": "stdout",
     "output_type": "stream",
     "text": [
      "Earliest date: 2017-11-01 00:00:00 \n",
      "Latest date: 2017-12-31 00:00:00 \n",
      "Dataset timespan: 60 days 00:00:00 \n",
      "Records number per day: [1] \n",
      "Differences between dates of records: [Timedelta('1 days 00:00:00')]\n"
     ]
    }
   ],
   "source": [
    "check_timespan(test)"
   ]
  },
  {
   "cell_type": "code",
   "execution_count": 18,
   "metadata": {
    "ExecuteTime": {
     "end_time": "2019-08-08T20:26:20.861009Z",
     "start_time": "2019-08-08T20:26:20.849014Z"
    }
   },
   "outputs": [],
   "source": [
    "def check_features_dist(train_df, test_df, features_to_check, \n",
    "                        figwidth=30, figtheight=15, \n",
    "                        train_df_plot_color='blue', test_df_plot_color='orange'):\n",
    "    fig = plt.figure(figsize=(figtheight, figwidth))\n",
    "    fig.subplots_adjust(hspace=0.4, wspace=0.4)\n",
    "    for i, feature in enumerate(features_to_check):    \n",
    "        j = i + 1\n",
    "        ax = fig.add_subplot(9, 3, j)\n",
    "        \n",
    "        try:\n",
    "            sns.distplot(train_df[feature].dropna(), color=train_df_plot_color)\n",
    "        except KeyError:\n",
    "            print('Error. No {feature_name} feature in the Train sample'.format(feature_name=feature))\n",
    "            \n",
    "        try:\n",
    "            sns.distplot(test_df[feature].dropna(), color=test_df_plot_color)\n",
    "        except KeyError:\n",
    "            print('Error. No {feature_name} feature in the Test sample'.format(feature_name=feature))\n",
    "            \n",
    "        plt.legend(labels=['train','test'])"
   ]
  },
  {
   "cell_type": "code",
   "execution_count": 344,
   "metadata": {
    "ExecuteTime": {
     "end_time": "2019-08-08T20:17:38.174515Z",
     "start_time": "2019-08-08T20:17:34.888936Z"
    },
    "scrolled": false
   },
   "outputs": [
    {
     "data": {
      "image/png": "[encoded data removed]",
      "text/plain": [
       "<Figure size 1080x2160 with 7 Axes>"
      ]
     },
     "metadata": {
      "needs_background": "light"
     },
     "output_type": "display_data"
    }
   ],
   "source": [
    "check_features_dist(train_data, test, predictors)"
   ]
  },
  {
   "cell_type": "markdown",
   "metadata": {},
   "source": [
    "Significant changes in distribution can be noticed for features 'Efficiency_of_main_aggregate' and 'Outdoor_temperature'"
   ]
  },
  {
   "cell_type": "code",
   "execution_count": 19,
   "metadata": {
    "ExecuteTime": {
     "end_time": "2019-08-08T20:26:23.182240Z",
     "start_time": "2019-08-08T20:26:23.175133Z"
    }
   },
   "outputs": [],
   "source": [
    "def check_nan_vals(df, features_to_check):\n",
    "    null_features = pd.DataFrame.from_dict(\n",
    "        {feature: df[df[feature].isnull()].shape[0] for feature in features_to_check}, \n",
    "        orient='index', columns=['n_null_features'])\n",
    "    n_records = df.shape[0]\n",
    "    null_features['n_null_features_%'] = null_features['n_null_features'\n",
    "                                                      ].apply(lambda x: (x / n_records)*100)\n",
    "    return null_features"
   ]
  },
  {
   "cell_type": "code",
   "execution_count": 20,
   "metadata": {
    "ExecuteTime": {
     "end_time": "2019-08-08T20:26:23.738319Z",
     "start_time": "2019-08-08T20:26:23.712894Z"
    }
   },
   "outputs": [
    {
     "data": {
      "text/html": [
       "<div>\n",
       "<style scoped>\n",
       "    .dataframe tbody tr th:only-of-type {\n",
       "        vertical-align: middle;\n",
       "    }\n",
       "\n",
       "    .dataframe tbody tr th {\n",
       "        vertical-align: top;\n",
       "    }\n",
       "\n",
       "    .dataframe thead th {\n",
       "        text-align: right;\n",
       "    }\n",
       "</style>\n",
       "<table border=\"1\" class=\"dataframe\">\n",
       "  <thead>\n",
       "    <tr style=\"text-align: right;\">\n",
       "      <th></th>\n",
       "      <th>n_null_features</th>\n",
       "      <th>n_null_features_%</th>\n",
       "    </tr>\n",
       "  </thead>\n",
       "  <tbody>\n",
       "    <tr>\n",
       "      <th>Heat_exchanger_stuffing</th>\n",
       "      <td>3</td>\n",
       "      <td>0.986842</td>\n",
       "    </tr>\n",
       "    <tr>\n",
       "      <th>Losses_of_pressure_in_hydralic_system</th>\n",
       "      <td>1</td>\n",
       "      <td>0.328947</td>\n",
       "    </tr>\n",
       "    <tr>\n",
       "      <th>Top_pressure_in_hydralic_system</th>\n",
       "      <td>4</td>\n",
       "      <td>1.315789</td>\n",
       "    </tr>\n",
       "    <tr>\n",
       "      <th>Efficiency_of_main_aggregate</th>\n",
       "      <td>9</td>\n",
       "      <td>2.960526</td>\n",
       "    </tr>\n",
       "    <tr>\n",
       "      <th>Quality_of_raw_materials</th>\n",
       "      <td>8</td>\n",
       "      <td>2.631579</td>\n",
       "    </tr>\n",
       "    <tr>\n",
       "      <th>Outdoor_temperature</th>\n",
       "      <td>8</td>\n",
       "      <td>2.631579</td>\n",
       "    </tr>\n",
       "    <tr>\n",
       "      <th>Product_Throughput</th>\n",
       "      <td>0</td>\n",
       "      <td>0.000000</td>\n",
       "    </tr>\n",
       "  </tbody>\n",
       "</table>\n",
       "</div>"
      ],
      "text/plain": [
       "                                       n_null_features  n_null_features_%\n",
       "Heat_exchanger_stuffing                              3           0.986842\n",
       "Losses_of_pressure_in_hydralic_system                1           0.328947\n",
       "Top_pressure_in_hydralic_system                      4           1.315789\n",
       "Efficiency_of_main_aggregate                         9           2.960526\n",
       "Quality_of_raw_materials                             8           2.631579\n",
       "Outdoor_temperature                                  8           2.631579\n",
       "Product_Throughput                                   0           0.000000"
      ]
     },
     "execution_count": 20,
     "metadata": {},
     "output_type": "execute_result"
    }
   ],
   "source": [
    "check_nan_vals(train_data, predictors)"
   ]
  },
  {
   "cell_type": "code",
   "execution_count": 57,
   "metadata": {
    "ExecuteTime": {
     "end_time": "2019-08-08T20:38:57.350562Z",
     "start_time": "2019-08-08T20:38:57.339612Z"
    }
   },
   "outputs": [],
   "source": [
    "def fill_missing_values(df, features, method):\n",
    "    df_vals = df.copy(deep=True)    \n",
    "    if method == 'mean':\n",
    "        for feature in features:\n",
    "            df_vals[feature] = df_vals[feature].fillna(np.mean(df_vals[feature]))\n",
    "    elif method == 'zero':\n",
    "        for feature in features:\n",
    "            df_vals[feature] = df_vals[feature].fillna(0)\n",
    "            \n",
    "    return df_vals"
   ]
  },
  {
   "cell_type": "markdown",
   "metadata": {},
   "source": [
    "# Modelling"
   ]
  },
  {
   "cell_type": "code",
   "execution_count": 153,
   "metadata": {
    "ExecuteTime": {
     "end_time": "2019-08-08T21:31:45.946758Z",
     "start_time": "2019-08-08T21:31:45.940188Z"
    }
   },
   "outputs": [],
   "source": [
    "from sklearn.model_selection import train_test_split\n",
    "from sklearn.linear_model import LinearRegression\n",
    "from sklearn.linear_model import LogisticRegression\n",
    "from sklearn.linear_model import ElasticNet\n",
    "from sklearn.linear_model import Lasso\n",
    "from sklearn.linear_model import Ridge\n",
    "from sklearn.model_selection import GridSearchCV\n",
    "from sklearn.metrics import mean_squared_error\n",
    "from math import sqrt\n",
    "import warnings"
   ]
  },
  {
   "cell_type": "code",
   "execution_count": 94,
   "metadata": {
    "ExecuteTime": {
     "end_time": "2019-08-08T21:10:39.135236Z",
     "start_time": "2019-08-08T21:10:39.125582Z"
    }
   },
   "outputs": [],
   "source": [
    "def rmse(estimator, data_sample, features, target):\n",
    "    \"\"\"Get RMSE score for given data sample.\"\"\"\n",
    "    predicted = estimator.predict(data_sample[features])\n",
    "    actual = data_sample[target]\n",
    "    return sqrt(mean_squared_error(actual, predicted))\n",
    "\n",
    "def rmse_on_samples(estimator, train_sample, test_sample, features, target,\n",
    "                   return_as_dict=False):\n",
    "    \"\"\"Get RMSE scores for both samples - test and train.\n",
    "    \"\"\"\n",
    "    if return_as_dict:\n",
    "        return {'RMSE_train': rmse(estimator, train_sample, features, target),\n",
    "               'RMSE_test': rmse(estimator, test_sample, features, target)}\n",
    "    else:\n",
    "        print('RMSE on train:', rmse(estimator, train_sample, features, target))\n",
    "        print('RMSE on test:', rmse(estimator, test_sample, features, target))\n",
    "        return None"
   ]
  },
  {
   "cell_type": "code",
   "execution_count": 95,
   "metadata": {
    "ExecuteTime": {
     "end_time": "2019-08-08T21:10:39.487403Z",
     "start_time": "2019-08-08T21:10:39.459929Z"
    },
    "scrolled": true
   },
   "outputs": [],
   "source": [
    "train, validate = train_test_split(\n",
    "    fill_missing_values(train_data, predictors, method='zero'), \n",
    "    test_size=0.20, random_state=42)\n",
    "\n",
    "train_mean, validate_mean = train_test_split(\n",
    "        fill_missing_values(train_data, predictors, method='mean'), \n",
    "    test_size=0.20, random_state=42)"
   ]
  },
  {
   "cell_type": "code",
   "execution_count": 96,
   "metadata": {
    "ExecuteTime": {
     "end_time": "2019-08-08T21:10:39.810645Z",
     "start_time": "2019-08-08T21:10:39.804590Z"
    },
    "scrolled": true
   },
   "outputs": [
    {
     "data": {
      "text/plain": [
       "((243, 9), (61, 9))"
      ]
     },
     "execution_count": 96,
     "metadata": {},
     "output_type": "execute_result"
    }
   ],
   "source": [
    "train.shape, validate.shape"
   ]
  },
  {
   "cell_type": "code",
   "execution_count": 97,
   "metadata": {
    "ExecuteTime": {
     "end_time": "2019-08-08T21:10:40.408880Z",
     "start_time": "2019-08-08T21:10:40.389723Z"
    },
    "scrolled": true
   },
   "outputs": [
    {
     "name": "stdout",
     "output_type": "stream",
     "text": [
      "RMSE on train: 4.565145984061737\n",
      "RMSE on test: 4.400304546781327\n"
     ]
    }
   ],
   "source": [
    "baseline_mdl_1 = LinearRegression(fit_intercept=True, normalize=False, copy_X=True, n_jobs=None\n",
    "                                 ).fit(train[predictors], train[target])\n",
    "\n",
    "rmse_on_samples(baseline_mdl_1, train, validate, predictors, target)"
   ]
  },
  {
   "cell_type": "code",
   "execution_count": 63,
   "metadata": {
    "ExecuteTime": {
     "end_time": "2019-08-08T20:39:17.589755Z",
     "start_time": "2019-08-08T20:39:17.569838Z"
    }
   },
   "outputs": [
    {
     "name": "stdout",
     "output_type": "stream",
     "text": [
      "RMSE on train: 4.588440540198621\n",
      "RMSE on test: 4.547658893931291\n"
     ]
    }
   ],
   "source": [
    "baseline_mdl_2 = LinearRegression(fit_intercept=True, normalize=False, copy_X=True, n_jobs=None\n",
    "                                 ).fit(train_mean[predictors], train_mean[target])\n",
    "\n",
    "rmse_on_samples(baseline_mdl_2, train_mean, validate_mean, predictors, target)"
   ]
  },
  {
   "cell_type": "markdown",
   "metadata": {},
   "source": [
    "Dataset with missing values substituted by mean values performs slightly worse (RMSE value is higher)"
   ]
  },
  {
   "cell_type": "code",
   "execution_count": 84,
   "metadata": {
    "ExecuteTime": {
     "end_time": "2019-08-08T21:02:59.692052Z",
     "start_time": "2019-08-08T21:02:59.683339Z"
    }
   },
   "outputs": [],
   "source": [
    "def test_estimators(train_sample, test_sample, features, target, print_estimator_hyperparams=False,\n",
    "                   estimators=[Lasso(), Ridge(), ElasticNet()]):\n",
    "    \"\"\"Mini-pipeline for testing various estimators baseline models.\"\"\"\n",
    "    \n",
    "    for estimator in estimators:\n",
    "        print('\\nTraining {estimator_name}...'.format(estimator_name=type(estimator).__name__))\n",
    "        if print_estimator_hyperparams:\n",
    "            print(estimator)\n",
    "        trained_estimator = estimator.fit(train_sample[features], train_sample[target])\n",
    "        rmse_on_samples(trained_estimator, train_sample, test_sample, features, target, return_as_dict=True)"
   ]
  },
  {
   "cell_type": "code",
   "execution_count": 85,
   "metadata": {
    "ExecuteTime": {
     "end_time": "2019-08-08T21:03:00.154962Z",
     "start_time": "2019-08-08T21:03:00.110679Z"
    }
   },
   "outputs": [
    {
     "name": "stdout",
     "output_type": "stream",
     "text": [
      "\n",
      "Training Lasso...\n",
      "RMSE on train: 4.867521143024085\n",
      "RMSE on test: 4.366118817096333\n",
      "\n",
      "Training Ridge...\n",
      "RMSE on train: 4.565874101551014\n",
      "RMSE on test: 4.377693331890543\n",
      "\n",
      "Training ElasticNet...\n",
      "RMSE on train: 4.8372637646972985\n",
      "RMSE on test: 4.330611072597726\n"
     ]
    }
   ],
   "source": [
    "test_estimators(train, validate, predictors, target)"
   ]
  },
  {
   "cell_type": "code",
   "execution_count": 86,
   "metadata": {
    "ExecuteTime": {
     "end_time": "2019-08-08T21:03:11.674001Z",
     "start_time": "2019-08-08T21:03:11.629965Z"
    },
    "scrolled": true
   },
   "outputs": [
    {
     "name": "stdout",
     "output_type": "stream",
     "text": [
      "\n",
      "Training Lasso...\n",
      "RMSE on train: 4.860048915855082\n",
      "RMSE on test: 4.360377367150631\n",
      "\n",
      "Training Ridge...\n",
      "RMSE on train: 4.589241086982382\n",
      "RMSE on test: 4.5166739653795975\n",
      "\n",
      "Training ElasticNet...\n",
      "RMSE on train: 4.831124716745029\n",
      "RMSE on test: 4.327386540954429\n"
     ]
    }
   ],
   "source": [
    "test_estimators(train_mean, validate_mean, predictors, target)"
   ]
  },
  {
   "cell_type": "markdown",
   "metadata": {},
   "source": [
    "ElasticNet performs better than other estimators for both datasets. Dataset with mean values replacing the missing ones produces lower RMSE values on both train and validate subsets."
   ]
  },
  {
   "cell_type": "code",
   "execution_count": 149,
   "metadata": {
    "ExecuteTime": {
     "end_time": "2019-08-08T21:28:58.878330Z",
     "start_time": "2019-08-08T21:28:58.870982Z"
    }
   },
   "outputs": [],
   "source": [
    "#set of model hyperparameters to test\n",
    "ElasticNet_estimators = [\n",
    "    ElasticNet(l1_ratio=0, selection='cyclic'), \n",
    "    ElasticNet(l1_ratio=1, selection='cyclic'),\n",
    "    ElasticNet(l1_ratio=0.5, selection='cyclic'), \n",
    "    ElasticNet(l1_ratio=0, selection='random'), \n",
    "    ElasticNet(l1_ratio=1, selection='random'),\n",
    "    ElasticNet(l1_ratio=0.5, selection='random')]"
   ]
  },
  {
   "cell_type": "code",
   "execution_count": 174,
   "metadata": {
    "ExecuteTime": {
     "end_time": "2019-08-08T21:41:16.869175Z",
     "start_time": "2019-08-08T21:41:16.855478Z"
    }
   },
   "outputs": [],
   "source": [
    "def test_estimators(train_sample, test_sample, features, target, estimators):\n",
    "    \"\"\"Mini-pipeline for testing various estimators baseline models.\"\"\"     \n",
    "    rmse_res, estimators_hyperparams = [], []\n",
    "    for estimator in estimators:\n",
    "        trained_estimator = train_converging_estimator(estimator, train_sample, features, target)\n",
    "        estimators_hyperparams.append(trained_estimator)\n",
    "        rmse_scores = rmse_on_samples(\n",
    "            trained_estimator, train_sample, test_sample, features, target, return_as_dict=True)\n",
    "        rmse_res.append(rmse_scores)\n",
    "        \n",
    "    metrics = pd.DataFrame(rmse_res)\n",
    "    metrics['model_hyperparam'] = estimators_hyperparams\n",
    "    return metrics\n",
    "\n",
    "def train_converging_estimator(estimator, data_sample, features, target):\n",
    "    \"\"\"Train estimators. If the model fails to converge increase max_iter number.\"\"\"\n",
    "    with warnings.catch_warnings():\n",
    "        try:\n",
    "            trained_estimator = estimator.fit(data_sample[features], data_sample[target])\n",
    "            return trained_estimator\n",
    "        except Warning:\n",
    "            cur_max_iter = estimator.get_params().get('max_iter')\n",
    "            if cur_max_iter < 10000: #condition to stop recursion\n",
    "                upd_max_iter = cur_max_iter + 500                \n",
    "                train_converging_estimator(estimator.set_params(max_iter=upd_max_iter), \n",
    "                                           data_sample, features, target)\n",
    "            else:\n",
    "                trained_estimator = estimator.fit(data_sample[features], data_sample[target])\n",
    "                return trained_estimator\n"
   ]
  },
  {
   "cell_type": "code",
   "execution_count": 180,
   "metadata": {
    "ExecuteTime": {
     "end_time": "2019-08-08T21:43:25.688146Z",
     "start_time": "2019-08-08T21:43:25.411287Z"
    }
   },
   "outputs": [
    {
     "name": "stderr",
     "output_type": "stream",
     "text": [
      "/opt/conda/lib/python3.6/site-packages/sklearn/linear_model/coordinate_descent.py:492: ConvergenceWarning: Objective did not converge. You might want to increase the number of iterations. Fitting data with very small alpha may cause precision problems.\n",
      "  ConvergenceWarning)\n",
      "/opt/conda/lib/python3.6/site-packages/sklearn/linear_model/coordinate_descent.py:492: ConvergenceWarning: Objective did not converge. You might want to increase the number of iterations. Fitting data with very small alpha may cause precision problems.\n",
      "  ConvergenceWarning)\n",
      "/opt/conda/lib/python3.6/site-packages/sklearn/linear_model/coordinate_descent.py:492: ConvergenceWarning: Objective did not converge. You might want to increase the number of iterations. Fitting data with very small alpha may cause precision problems.\n",
      "  ConvergenceWarning)\n",
      "/opt/conda/lib/python3.6/site-packages/sklearn/linear_model/coordinate_descent.py:492: ConvergenceWarning: Objective did not converge. You might want to increase the number of iterations. Fitting data with very small alpha may cause precision problems.\n",
      "  ConvergenceWarning)\n"
     ]
    }
   ],
   "source": [
    "metrics = test_estimators(train, validate, predictors, target, ElasticNet_estimators)\n",
    "mean_metrics = test_estimators(train_mean, validate_mean, predictors, target, ElasticNet_estimators)"
   ]
  },
  {
   "cell_type": "code",
   "execution_count": 186,
   "metadata": {
    "ExecuteTime": {
     "end_time": "2019-08-08T21:44:27.632844Z",
     "start_time": "2019-08-08T21:44:27.610430Z"
    },
    "scrolled": false
   },
   "outputs": [
    {
     "data": {
      "text/html": [
       "<div>\n",
       "<style scoped>\n",
       "    .dataframe tbody tr th:only-of-type {\n",
       "        vertical-align: middle;\n",
       "    }\n",
       "\n",
       "    .dataframe tbody tr th {\n",
       "        vertical-align: top;\n",
       "    }\n",
       "\n",
       "    .dataframe thead th {\n",
       "        text-align: right;\n",
       "    }\n",
       "</style>\n",
       "<table border=\"1\" class=\"dataframe\">\n",
       "  <thead>\n",
       "    <tr style=\"text-align: right;\">\n",
       "      <th></th>\n",
       "      <th>RMSE_test</th>\n",
       "      <th>RMSE_train</th>\n",
       "      <th>model_hyperparam</th>\n",
       "    </tr>\n",
       "  </thead>\n",
       "  <tbody>\n",
       "    <tr>\n",
       "      <th>3</th>\n",
       "      <td>4.306289</td>\n",
       "      <td>4.792609</td>\n",
       "      <td>ElasticNet(alpha=1.0, copy_X=True, fit_interce...</td>\n",
       "    </tr>\n",
       "    <tr>\n",
       "      <th>0</th>\n",
       "      <td>4.306289</td>\n",
       "      <td>4.792609</td>\n",
       "      <td>ElasticNet(alpha=1.0, copy_X=True, fit_interce...</td>\n",
       "    </tr>\n",
       "    <tr>\n",
       "      <th>2</th>\n",
       "      <td>4.330611</td>\n",
       "      <td>4.837264</td>\n",
       "      <td>ElasticNet(alpha=1.0, copy_X=True, fit_interce...</td>\n",
       "    </tr>\n",
       "    <tr>\n",
       "      <th>5</th>\n",
       "      <td>4.330611</td>\n",
       "      <td>4.837264</td>\n",
       "      <td>ElasticNet(alpha=1.0, copy_X=True, fit_interce...</td>\n",
       "    </tr>\n",
       "    <tr>\n",
       "      <th>1</th>\n",
       "      <td>4.366119</td>\n",
       "      <td>4.867521</td>\n",
       "      <td>ElasticNet(alpha=1.0, copy_X=True, fit_interce...</td>\n",
       "    </tr>\n",
       "    <tr>\n",
       "      <th>4</th>\n",
       "      <td>4.366119</td>\n",
       "      <td>4.867521</td>\n",
       "      <td>ElasticNet(alpha=1.0, copy_X=True, fit_interce...</td>\n",
       "    </tr>\n",
       "  </tbody>\n",
       "</table>\n",
       "</div>"
      ],
      "text/plain": [
       "   RMSE_test  RMSE_train                                   model_hyperparam\n",
       "3   4.306289    4.792609  ElasticNet(alpha=1.0, copy_X=True, fit_interce...\n",
       "0   4.306289    4.792609  ElasticNet(alpha=1.0, copy_X=True, fit_interce...\n",
       "2   4.330611    4.837264  ElasticNet(alpha=1.0, copy_X=True, fit_interce...\n",
       "5   4.330611    4.837264  ElasticNet(alpha=1.0, copy_X=True, fit_interce...\n",
       "1   4.366119    4.867521  ElasticNet(alpha=1.0, copy_X=True, fit_interce...\n",
       "4   4.366119    4.867521  ElasticNet(alpha=1.0, copy_X=True, fit_interce..."
      ]
     },
     "execution_count": 186,
     "metadata": {},
     "output_type": "execute_result"
    }
   ],
   "source": [
    "metrics.sort_values(['RMSE_test', 'RMSE_train'], ascending=True)"
   ]
  },
  {
   "cell_type": "code",
   "execution_count": 184,
   "metadata": {
    "ExecuteTime": {
     "end_time": "2019-08-08T21:44:09.100154Z",
     "start_time": "2019-08-08T21:44:09.075315Z"
    },
    "scrolled": true
   },
   "outputs": [
    {
     "data": {
      "text/html": [
       "<div>\n",
       "<style scoped>\n",
       "    .dataframe tbody tr th:only-of-type {\n",
       "        vertical-align: middle;\n",
       "    }\n",
       "\n",
       "    .dataframe tbody tr th {\n",
       "        vertical-align: top;\n",
       "    }\n",
       "\n",
       "    .dataframe thead th {\n",
       "        text-align: right;\n",
       "    }\n",
       "</style>\n",
       "<table border=\"1\" class=\"dataframe\">\n",
       "  <thead>\n",
       "    <tr style=\"text-align: right;\">\n",
       "      <th></th>\n",
       "      <th>RMSE_test</th>\n",
       "      <th>RMSE_train</th>\n",
       "      <th>model_hyperparam</th>\n",
       "    </tr>\n",
       "  </thead>\n",
       "  <tbody>\n",
       "    <tr>\n",
       "      <th>0</th>\n",
       "      <td>4.321969</td>\n",
       "      <td>4.798767</td>\n",
       "      <td>ElasticNet(alpha=1.0, copy_X=True, fit_interce...</td>\n",
       "    </tr>\n",
       "    <tr>\n",
       "      <th>3</th>\n",
       "      <td>4.321969</td>\n",
       "      <td>4.798767</td>\n",
       "      <td>ElasticNet(alpha=1.0, copy_X=True, fit_interce...</td>\n",
       "    </tr>\n",
       "    <tr>\n",
       "      <th>2</th>\n",
       "      <td>4.327387</td>\n",
       "      <td>4.831125</td>\n",
       "      <td>ElasticNet(alpha=1.0, copy_X=True, fit_interce...</td>\n",
       "    </tr>\n",
       "    <tr>\n",
       "      <th>5</th>\n",
       "      <td>4.327387</td>\n",
       "      <td>4.831125</td>\n",
       "      <td>ElasticNet(alpha=1.0, copy_X=True, fit_interce...</td>\n",
       "    </tr>\n",
       "    <tr>\n",
       "      <th>1</th>\n",
       "      <td>4.360377</td>\n",
       "      <td>4.860049</td>\n",
       "      <td>ElasticNet(alpha=1.0, copy_X=True, fit_interce...</td>\n",
       "    </tr>\n",
       "    <tr>\n",
       "      <th>4</th>\n",
       "      <td>4.360377</td>\n",
       "      <td>4.860049</td>\n",
       "      <td>ElasticNet(alpha=1.0, copy_X=True, fit_interce...</td>\n",
       "    </tr>\n",
       "  </tbody>\n",
       "</table>\n",
       "</div>"
      ],
      "text/plain": [
       "   RMSE_test  RMSE_train                                   model_hyperparam\n",
       "0   4.321969    4.798767  ElasticNet(alpha=1.0, copy_X=True, fit_interce...\n",
       "3   4.321969    4.798767  ElasticNet(alpha=1.0, copy_X=True, fit_interce...\n",
       "2   4.327387    4.831125  ElasticNet(alpha=1.0, copy_X=True, fit_interce...\n",
       "5   4.327387    4.831125  ElasticNet(alpha=1.0, copy_X=True, fit_interce...\n",
       "1   4.360377    4.860049  ElasticNet(alpha=1.0, copy_X=True, fit_interce...\n",
       "4   4.360377    4.860049  ElasticNet(alpha=1.0, copy_X=True, fit_interce..."
      ]
     },
     "execution_count": 184,
     "metadata": {},
     "output_type": "execute_result"
    }
   ],
   "source": [
    "mean_metrics.sort_values(['RMSE_test', 'RMSE_train'], ascending=True)"
   ]
  },
  {
   "cell_type": "code",
   "execution_count": 206,
   "metadata": {
    "ExecuteTime": {
     "end_time": "2019-08-08T21:47:09.784413Z",
     "start_time": "2019-08-08T21:47:09.765114Z"
    }
   },
   "outputs": [],
   "source": [
    "best_mdl = list(\n",
    "    metrics.sort_values(['RMSE_test', 'RMSE_train'], ascending=True\n",
    "                       ).head(1).model_hyperparam)[0]"
   ]
  },
  {
   "cell_type": "code",
   "execution_count": 207,
   "metadata": {
    "ExecuteTime": {
     "end_time": "2019-08-08T21:47:12.236628Z",
     "start_time": "2019-08-08T21:47:12.208369Z"
    },
    "scrolled": true
   },
   "outputs": [
    {
     "name": "stderr",
     "output_type": "stream",
     "text": [
      "/opt/conda/lib/python3.6/site-packages/sklearn/linear_model/coordinate_descent.py:492: ConvergenceWarning: Objective did not converge. You might want to increase the number of iterations. Fitting data with very small alpha may cause precision problems.\n",
      "  ConvergenceWarning)\n"
     ]
    },
    {
     "data": {
      "text/plain": [
       "ElasticNet(alpha=1.0, copy_X=True, fit_intercept=True, l1_ratio=0,\n",
       "      max_iter=1000, normalize=False, positive=False, precompute=False,\n",
       "      random_state=None, selection='random', tol=0.0001, warm_start=False)"
      ]
     },
     "execution_count": 207,
     "metadata": {},
     "output_type": "execute_result"
    }
   ],
   "source": [
    "best_mdl.fit(train[predictors], train[target])"
   ]
  },
  {
   "cell_type": "markdown",
   "metadata": {},
   "source": [
    "# Analysis"
   ]
  },
  {
   "cell_type": "markdown",
   "metadata": {},
   "source": [
    "To-do:\n",
    "1. Build a model on the provided dataset to predict energy costs using \n",
    "2. Provide scores for the dataset in test.csv file and write to 'Predicted' coumn.\n",
    "\n",
    "RMSE should be considered to be the main metric for models evaluation."
   ]
  },
  {
   "cell_type": "code",
   "execution_count": 220,
   "metadata": {
    "ExecuteTime": {
     "end_time": "2019-08-08T21:54:05.808102Z",
     "start_time": "2019-08-08T21:54:05.802412Z"
    }
   },
   "outputs": [],
   "source": [
    "import pickle\n",
    "\n",
    "def save_to_pickle(model, pickle_name):\n",
    "    model_pkl_filename = pickle_name\n",
    "    model_pkl = open(model_pkl_filename, 'wb')\n",
    "    pickle.dump(model, model_pkl)\n",
    "    model_pkl.close()   "
   ]
  },
  {
   "cell_type": "code",
   "execution_count": 215,
   "metadata": {
    "ExecuteTime": {
     "end_time": "2019-08-08T21:52:15.009995Z",
     "start_time": "2019-08-08T21:52:15.000784Z"
    }
   },
   "outputs": [],
   "source": [
    "test['Predicted'] = best_mdl.predict(test[predictors])"
   ]
  },
  {
   "cell_type": "code",
   "execution_count": 216,
   "metadata": {
    "ExecuteTime": {
     "end_time": "2019-08-08T21:52:17.869037Z",
     "start_time": "2019-08-08T21:52:17.842096Z"
    }
   },
   "outputs": [
    {
     "data": {
      "text/html": [
       "<div>\n",
       "<style scoped>\n",
       "    .dataframe tbody tr th:only-of-type {\n",
       "        vertical-align: middle;\n",
       "    }\n",
       "\n",
       "    .dataframe tbody tr th {\n",
       "        vertical-align: top;\n",
       "    }\n",
       "\n",
       "    .dataframe thead th {\n",
       "        text-align: right;\n",
       "    }\n",
       "</style>\n",
       "<table border=\"1\" class=\"dataframe\">\n",
       "  <thead>\n",
       "    <tr style=\"text-align: right;\">\n",
       "      <th></th>\n",
       "      <th>ID</th>\n",
       "      <th>Timestamp</th>\n",
       "      <th>Heat_exchanger_stuffing</th>\n",
       "      <th>Losses_of_pressure_in_hydralic_system</th>\n",
       "      <th>Top_pressure_in_hydralic_system</th>\n",
       "      <th>Efficiency_of_main_aggregate</th>\n",
       "      <th>Quality_of_raw_materials</th>\n",
       "      <th>Outdoor_temperature</th>\n",
       "      <th>Product_Throughput</th>\n",
       "      <th>Predicted</th>\n",
       "    </tr>\n",
       "  </thead>\n",
       "  <tbody>\n",
       "    <tr>\n",
       "      <th>0</th>\n",
       "      <td>1</td>\n",
       "      <td>2017-11-01</td>\n",
       "      <td>0.571023</td>\n",
       "      <td>0.100396</td>\n",
       "      <td>0.378605</td>\n",
       "      <td>0.316781</td>\n",
       "      <td>0.645509</td>\n",
       "      <td>0.179519</td>\n",
       "      <td>0.164037</td>\n",
       "      <td>11.963334</td>\n",
       "    </tr>\n",
       "    <tr>\n",
       "      <th>1</th>\n",
       "      <td>2</td>\n",
       "      <td>2017-11-02</td>\n",
       "      <td>0.378231</td>\n",
       "      <td>0.498550</td>\n",
       "      <td>0.643957</td>\n",
       "      <td>0.298548</td>\n",
       "      <td>0.194245</td>\n",
       "      <td>0.183721</td>\n",
       "      <td>0.208933</td>\n",
       "      <td>11.563898</td>\n",
       "    </tr>\n",
       "    <tr>\n",
       "      <th>2</th>\n",
       "      <td>3</td>\n",
       "      <td>2017-11-03</td>\n",
       "      <td>0.421636</td>\n",
       "      <td>0.799595</td>\n",
       "      <td>0.821323</td>\n",
       "      <td>0.094372</td>\n",
       "      <td>0.853556</td>\n",
       "      <td>0.130573</td>\n",
       "      <td>0.317198</td>\n",
       "      <td>11.520759</td>\n",
       "    </tr>\n",
       "  </tbody>\n",
       "</table>\n",
       "</div>"
      ],
      "text/plain": [
       "   ID  Timestamp  Heat_exchanger_stuffing  \\\n",
       "0   1 2017-11-01                 0.571023   \n",
       "1   2 2017-11-02                 0.378231   \n",
       "2   3 2017-11-03                 0.421636   \n",
       "\n",
       "   Losses_of_pressure_in_hydralic_system  Top_pressure_in_hydralic_system  \\\n",
       "0                               0.100396                         0.378605   \n",
       "1                               0.498550                         0.643957   \n",
       "2                               0.799595                         0.821323   \n",
       "\n",
       "   Efficiency_of_main_aggregate  Quality_of_raw_materials  \\\n",
       "0                      0.316781                  0.645509   \n",
       "1                      0.298548                  0.194245   \n",
       "2                      0.094372                  0.853556   \n",
       "\n",
       "   Outdoor_temperature  Product_Throughput  Predicted  \n",
       "0             0.179519            0.164037  11.963334  \n",
       "1             0.183721            0.208933  11.563898  \n",
       "2             0.130573            0.317198  11.520759  "
      ]
     },
     "execution_count": 216,
     "metadata": {},
     "output_type": "execute_result"
    }
   ],
   "source": [
    "test.head(3)"
   ]
  },
  {
   "cell_type": "code",
   "execution_count": 217,
   "metadata": {
    "ExecuteTime": {
     "end_time": "2019-08-08T21:52:40.386920Z",
     "start_time": "2019-08-08T21:52:40.374361Z"
    }
   },
   "outputs": [],
   "source": [
    "test.to_csv('test.csv', index=False)"
   ]
  },
  {
   "cell_type": "code",
   "execution_count": 226,
   "metadata": {
    "ExecuteTime": {
     "end_time": "2019-08-11T08:34:21.387319Z",
     "start_time": "2019-08-11T08:34:21.381018Z"
    }
   },
   "outputs": [],
   "source": [
    "save_to_pickle(best_mdl, 'fin_mdl_to_deploy.pkl')"
   ]
  }
 ],
 "metadata": {
  "hide_input": false,
  "kernelspec": {
   "display_name": "Python 3",
   "language": "python",
   "name": "python3"
  },
  "language_info": {
   "codemirror_mode": {
    "name": "ipython",
    "version": 3
   },
   "file_extension": ".py",
   "mimetype": "text/x-python",
   "name": "python",
   "nbconvert_exporter": "python",
   "pygments_lexer": "ipython3",
   "version": "3.6.6"
  },
  "toc": {
   "base_numbering": 1,
   "nav_menu": {},
   "number_sections": true,
   "sideBar": true,
   "skip_h1_title": false,
   "title_cell": "Table of Contents",
   "title_sidebar": "Contents",
   "toc_cell": false,
   "toc_position": {
    "height": "calc(100% - 180px)",
    "left": "10px",
    "top": "150px",
    "width": "392.086px"
   },
   "toc_section_display": true,
   "toc_window_display": false
  }
 },
 "nbformat": 4,
 "nbformat_minor": 2
}
